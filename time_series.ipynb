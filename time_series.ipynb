{
 "cells": [
  {
   "metadata": {},
   "cell_type": "markdown",
   "source": [
    "# DATAPIPELINE\n",
    "\n",
    "Our goal is to create a **Aggregation Datapipeline** using the public api's from US Bureau of Labour and Statistics website \n",
    "\n",
    "We would be storing our data in pandas dataframe and exporting it in csv format hopefully\n",
    "\n",
    "the data would be listed in state denominations, the districts data will be aggregated to represent state data,\n",
    "\n",
    "all the stored api keys would be in .env file\n",
    "\n",
    "\n"
   ],
   "id": "82e85c3fac784077"
  },
  {
   "metadata": {
    "ExecuteTime": {
     "end_time": "2025-02-27T05:39:55.338884Z",
     "start_time": "2025-02-27T05:39:52.236934Z"
    }
   },
   "cell_type": "code",
   "source": [
    "# Importing all the necessary libraries\n",
    "import matplotlib.pyplot as plt\n",
    "import pandas as pd\n",
    "import requests\n",
    "import json\n",
    "import prettytable\n",
    "import csv"
   ],
   "id": "initial_id",
   "outputs": [],
   "execution_count": 1
  },
  {
   "metadata": {},
   "cell_type": "markdown",
   "source": [
    "## Loading the relevant Series IDs from 'data.bls.gov', \n",
    "\n",
    "### We have picked the series in relevance to MNREGA'S KPI's\n",
    "\n",
    "Like for example **QUARTERLY GROSS JOB GAINS** could the number of person-days generated under MNREGA each quarter could serve as a rough proxy.\n",
    "\n",
    "other parrallel series like Employment-Population Ratio can be related to percentage of rural households with at least one member working under MNREGA could be a similar metric."
   ],
   "id": "f6471ec527507d96"
  },
  {
   "metadata": {
    "ExecuteTime": {
     "end_time": "2025-02-27T05:39:57.718412Z",
     "start_time": "2025-02-27T05:39:57.696447Z"
    }
   },
   "cell_type": "code",
   "source": [
    "#loading all the relevant KPI\n",
    "import os\n",
    "from dotenv import load_dotenv, dotenv_values\n",
    "\n",
    "\n",
    "load_dotenv()\n",
    "\n",
    "API_KEY = os.getenv(\"API_KEY\")\n",
    "\n",
    "Quarterly_gross_job_gains = os.getenv(\"QUARTERLY_GROSS_JOB_GAINS\")\n",
    "Quarterly_gross_job_loss = os.getenv(\"QUARTERLY_GROSS_JOB_LOSSES\")\n",
    "\n",
    "Employment_lvl = os.getenv(\"EMPLOYMENT_LVL\")\n",
    "Employment_population_ratio = os.getenv(\"EMPLOYMENT_POPULATION_RATIO\")\n",
    "\n",
    "Labour_force_participation = os.getenv(\"LABOR_FORCE_PARTICIPATION_RATE\")\n",
    "Total_avg_weekly_Hrs = os.getenv(\"TOTAL_AVG_WEEKLY_HRS\")\n",
    "Avg_weekly_earnings = os.getenv(\"AVG_WEEKLY_EARNINGS\")\n",
    "\n",
    "Avg_hourly_earnings_all_employees = os.getenv(\"AVG_HOURLY_EARNINGS_ALL_EMPLOYEES\")"
   ],
   "id": "31e6fad0633dda25",
   "outputs": [],
   "execution_count": 2
  },
  {
   "metadata": {},
   "cell_type": "markdown",
   "source": [
    "## Pick the relevant Hyperparameters \n",
    "\n",
    "- Series name \n",
    "- Start Year of Series\n",
    "- End Year of Series"
   ],
   "id": "553b989d02b1717e"
  },
  {
   "metadata": {
    "ExecuteTime": {
     "end_time": "2025-02-27T05:39:59.035929Z",
     "start_time": "2025-02-27T05:39:59.031448Z"
    }
   },
   "cell_type": "code",
   "source": [
    "# Picking the relevant Hyperparameters and series ID\n",
    "collection = []\n",
    "\n",
    "collection.append(Quarterly_gross_job_gains)\n",
    "collection.append(Quarterly_gross_job_loss)\n",
    "\n",
    "start_year = 2012\n",
    "end_year = 2022\n",
    "\n",
    "start_year = str(start_year)\n",
    "end_year = str(end_year)\n",
    "\n"
   ],
   "id": "1401d7fb3b9958d2",
   "outputs": [],
   "execution_count": 3
  },
  {
   "metadata": {
    "ExecuteTime": {
     "end_time": "2025-02-27T05:40:09.688434Z",
     "start_time": "2025-02-27T05:40:07.797959Z"
    }
   },
   "cell_type": "code",
   "source": [
    "# Making the request call\n",
    "\n",
    "headers = {'Content-type': 'application/json'}\n",
    "\n",
    "data = json.dumps({\n",
    "    \"seriesid\": collection,\n",
    "    \"startyear\":start_year,\n",
    "    \"endyear\": end_year})\n",
    "\n",
    "p = requests.post('https://api.bls.gov/publicAPI/v2/timeseries/data/', data=data, headers=headers)\n",
    "\n",
    "json_data = json.loads(p.text)"
   ],
   "id": "92d6f10b732d7ed5",
   "outputs": [],
   "execution_count": 4
  },
  {
   "metadata": {},
   "cell_type": "markdown",
   "source": "## Our Function to analyse the structure of api call",
   "id": "1c0c4c112df42946"
  },
  {
   "metadata": {
    "ExecuteTime": {
     "end_time": "2025-02-27T05:41:14.345385Z",
     "start_time": "2025-02-27T05:41:14.334550Z"
    }
   },
   "cell_type": "code",
   "source": [
    "def analyze_schema(data, level=1):\n",
    "    # Recursively analyze the schema of a JSON object or array.\n",
    "    if isinstance(data, dict):\n",
    "        schema = {}\n",
    "        for key, value in data.items():\n",
    "            schema[key] = analyze_schema(value, level + 1)\n",
    "        return schema\n",
    "    elif isinstance(data, list):\n",
    "        if data:\n",
    "            return [analyze_schema(data[0], level + 1)]\n",
    "        else:\n",
    "            return [\"Empty List\"]\n",
    "    else:\n",
    "        return type(data).__name__\n",
    "    \n",
    "\n",
    "analyze_schema(json_data)"
   ],
   "id": "6bf8497d2075e14b",
   "outputs": [
    {
     "data": {
      "text/plain": [
       "{'status': 'str',\n",
       " 'responseTime': 'int',\n",
       " 'message': ['str'],\n",
       " 'Results': {'series': [{'seriesID': 'str',\n",
       "    'data': [{'year': 'str',\n",
       "      'period': 'str',\n",
       "      'periodName': 'str',\n",
       "      'value': 'str',\n",
       "      'footnotes': [{'code': 'str', 'text': 'str'}]}]}]}}"
      ]
     },
     "execution_count": 5,
     "metadata": {},
     "output_type": "execute_result"
    }
   ],
   "execution_count": 5
  },
  {
   "metadata": {
    "ExecuteTime": {
     "end_time": "2025-02-27T05:41:43.530728Z",
     "start_time": "2025-02-27T05:41:43.522270Z"
    }
   },
   "cell_type": "code",
   "source": [
    "# Helper Functions\n",
    "def Quater_year(year: list[int]):\n",
    "    for i in range(1,len(year)):\n",
    "        if year[i] != year[i-1] and (year[i-1] * 4) % 4 == 3:\n",
    "            continue\n",
    "        year[i] = year[i-1] + 0.25\n",
    "        \n",
    "    return year\n",
    "\n",
    "def Month_year(year: list[int]):\n",
    "    for i in range(1,len(year)):\n",
    "        if year[i] != year[i-1] and (year[i-1] * 10) % 10 == 0:\n",
    "            continue\n",
    "        year[i] = year[i-1] + 0.1\n",
    "        \n",
    "    return year\n",
    "def convert_str_int_list(year: list[str]):\n",
    "    for i in range(len(year)):\n",
    "        x = year[i]\n",
    "        year[i] = int(x)\n",
    "    return year"
   ],
   "id": "7fc5646515b9efa7",
   "outputs": [],
   "execution_count": 6
  },
  {
   "metadata": {},
   "cell_type": "markdown",
   "source": [
    "### Extracting the Data from API  \n",
    "\n",
    "### preprocessing it and Storing it in Dataframe \n",
    "\n"
   ],
   "id": "52c349f43832f1d7"
  },
  {
   "metadata": {
    "ExecuteTime": {
     "end_time": "2025-02-27T05:42:59.535826Z",
     "start_time": "2025-02-27T05:42:59.526182Z"
    }
   },
   "cell_type": "code",
   "source": [
    "if json_data['status'] == \"REQUEST_SUCCEEDED\":\n",
    "    # Extraction the year and period data\n",
    "    year = []\n",
    "    period = []\n",
    "    series = json_data['Results']['series'][0]\n",
    "    \n",
    "    for item in series['data']:\n",
    "        year.append(item['year'])\n",
    "        period.append(item['period'])\n",
    "    year.reverse()\n",
    "    period.reverse()\n",
    "    \n",
    "    if period[0] == \"M01\":\n",
    "        spaced_year = Month_year(convert_str_int_list(year))\n",
    "    else:   \n",
    "        spaced_year = Quater_year(convert_str_int_list(year))\n",
    "\n",
    "    \n",
    "    values = []\n",
    "    for series in json_data['Results']['series']:\n",
    "        seriesId = series['seriesID']\n",
    "        series_data = []\n",
    "        for item in series['data']:\n",
    "            series_data.append(item['value'])\n",
    "        series_data.reverse()\n",
    "        values.append(series_data)\n",
    "        \n",
    "    # Inserting the value in dictionary\n",
    "    data = {\n",
    "        \"timestamp\": year,\n",
    "        \"period\": period\n",
    "    }\n",
    "    for i in range(len(collection)):\n",
    "        data.update({f'{os.getenv(collection[i])}': values[i]})\n",
    "        \n",
    "    df = pd.DataFrame(data)\n",
    "    \n",
    "    df.set_index(\"timestamp\", inplace=True)"
   ],
   "id": "86fb4c6676a68fa1",
   "outputs": [],
   "execution_count": 7
  },
  {
   "metadata": {
    "ExecuteTime": {
     "end_time": "2025-02-27T05:43:00.864154Z",
     "start_time": "2025-02-27T05:43:00.846353Z"
    }
   },
   "cell_type": "code",
   "source": "df.head(20)",
   "id": "c0ddad89367a9ea4",
   "outputs": [
    {
     "data": {
      "text/plain": [
       "          period QUARTERLY_GROSS_JOB_GAINS QUARTERLY_GROSS_JOB_LOSSES\n",
       "timestamp                                                            \n",
       "2012.00      Q01                      7080                       6132\n",
       "2012.25      Q02                      7051                       6435\n",
       "2012.50      Q03                      6881                       6629\n",
       "2012.75      Q04                      7110                       6415\n",
       "2013.00      Q01                      6941                       6383\n",
       "2013.25      Q02                      7152                       6478\n",
       "2013.50      Q03                      7058                       6551\n",
       "2013.75      Q04                      7255                       6555\n",
       "2014.00      Q01                      6953                       6534\n",
       "2014.25      Q02                      7454                       6559\n",
       "2014.50      Q03                      7247                       6670\n",
       "2014.75      Q04                      7617                       6579\n",
       "2015.00      Q01                      7046                       6830\n",
       "2015.25      Q02                      7580                       6731\n",
       "2015.50      Q03                      7344                       6869\n",
       "2015.75      Q04                      7817                       6873\n",
       "2016.00      Q01                      7163                       6914\n",
       "2016.25      Q02                      7443                       7125\n",
       "2016.50      Q03                      7710                       6962\n",
       "2016.75      Q04                      7413                       7105"
      ],
      "text/html": [
       "<div>\n",
       "<style scoped>\n",
       "    .dataframe tbody tr th:only-of-type {\n",
       "        vertical-align: middle;\n",
       "    }\n",
       "\n",
       "    .dataframe tbody tr th {\n",
       "        vertical-align: top;\n",
       "    }\n",
       "\n",
       "    .dataframe thead th {\n",
       "        text-align: right;\n",
       "    }\n",
       "</style>\n",
       "<table border=\"1\" class=\"dataframe\">\n",
       "  <thead>\n",
       "    <tr style=\"text-align: right;\">\n",
       "      <th></th>\n",
       "      <th>period</th>\n",
       "      <th>QUARTERLY_GROSS_JOB_GAINS</th>\n",
       "      <th>QUARTERLY_GROSS_JOB_LOSSES</th>\n",
       "    </tr>\n",
       "    <tr>\n",
       "      <th>timestamp</th>\n",
       "      <th></th>\n",
       "      <th></th>\n",
       "      <th></th>\n",
       "    </tr>\n",
       "  </thead>\n",
       "  <tbody>\n",
       "    <tr>\n",
       "      <th>2012.00</th>\n",
       "      <td>Q01</td>\n",
       "      <td>7080</td>\n",
       "      <td>6132</td>\n",
       "    </tr>\n",
       "    <tr>\n",
       "      <th>2012.25</th>\n",
       "      <td>Q02</td>\n",
       "      <td>7051</td>\n",
       "      <td>6435</td>\n",
       "    </tr>\n",
       "    <tr>\n",
       "      <th>2012.50</th>\n",
       "      <td>Q03</td>\n",
       "      <td>6881</td>\n",
       "      <td>6629</td>\n",
       "    </tr>\n",
       "    <tr>\n",
       "      <th>2012.75</th>\n",
       "      <td>Q04</td>\n",
       "      <td>7110</td>\n",
       "      <td>6415</td>\n",
       "    </tr>\n",
       "    <tr>\n",
       "      <th>2013.00</th>\n",
       "      <td>Q01</td>\n",
       "      <td>6941</td>\n",
       "      <td>6383</td>\n",
       "    </tr>\n",
       "    <tr>\n",
       "      <th>2013.25</th>\n",
       "      <td>Q02</td>\n",
       "      <td>7152</td>\n",
       "      <td>6478</td>\n",
       "    </tr>\n",
       "    <tr>\n",
       "      <th>2013.50</th>\n",
       "      <td>Q03</td>\n",
       "      <td>7058</td>\n",
       "      <td>6551</td>\n",
       "    </tr>\n",
       "    <tr>\n",
       "      <th>2013.75</th>\n",
       "      <td>Q04</td>\n",
       "      <td>7255</td>\n",
       "      <td>6555</td>\n",
       "    </tr>\n",
       "    <tr>\n",
       "      <th>2014.00</th>\n",
       "      <td>Q01</td>\n",
       "      <td>6953</td>\n",
       "      <td>6534</td>\n",
       "    </tr>\n",
       "    <tr>\n",
       "      <th>2014.25</th>\n",
       "      <td>Q02</td>\n",
       "      <td>7454</td>\n",
       "      <td>6559</td>\n",
       "    </tr>\n",
       "    <tr>\n",
       "      <th>2014.50</th>\n",
       "      <td>Q03</td>\n",
       "      <td>7247</td>\n",
       "      <td>6670</td>\n",
       "    </tr>\n",
       "    <tr>\n",
       "      <th>2014.75</th>\n",
       "      <td>Q04</td>\n",
       "      <td>7617</td>\n",
       "      <td>6579</td>\n",
       "    </tr>\n",
       "    <tr>\n",
       "      <th>2015.00</th>\n",
       "      <td>Q01</td>\n",
       "      <td>7046</td>\n",
       "      <td>6830</td>\n",
       "    </tr>\n",
       "    <tr>\n",
       "      <th>2015.25</th>\n",
       "      <td>Q02</td>\n",
       "      <td>7580</td>\n",
       "      <td>6731</td>\n",
       "    </tr>\n",
       "    <tr>\n",
       "      <th>2015.50</th>\n",
       "      <td>Q03</td>\n",
       "      <td>7344</td>\n",
       "      <td>6869</td>\n",
       "    </tr>\n",
       "    <tr>\n",
       "      <th>2015.75</th>\n",
       "      <td>Q04</td>\n",
       "      <td>7817</td>\n",
       "      <td>6873</td>\n",
       "    </tr>\n",
       "    <tr>\n",
       "      <th>2016.00</th>\n",
       "      <td>Q01</td>\n",
       "      <td>7163</td>\n",
       "      <td>6914</td>\n",
       "    </tr>\n",
       "    <tr>\n",
       "      <th>2016.25</th>\n",
       "      <td>Q02</td>\n",
       "      <td>7443</td>\n",
       "      <td>7125</td>\n",
       "    </tr>\n",
       "    <tr>\n",
       "      <th>2016.50</th>\n",
       "      <td>Q03</td>\n",
       "      <td>7710</td>\n",
       "      <td>6962</td>\n",
       "    </tr>\n",
       "    <tr>\n",
       "      <th>2016.75</th>\n",
       "      <td>Q04</td>\n",
       "      <td>7413</td>\n",
       "      <td>7105</td>\n",
       "    </tr>\n",
       "  </tbody>\n",
       "</table>\n",
       "</div>"
      ]
     },
     "execution_count": 8,
     "metadata": {},
     "output_type": "execute_result"
    }
   ],
   "execution_count": 8
  },
  {
   "metadata": {
    "ExecuteTime": {
     "end_time": "2025-02-27T05:43:27.496628Z",
     "start_time": "2025-02-27T05:43:27.224291Z"
    }
   },
   "cell_type": "code",
   "source": [
    "import matplotlib.pyplot as plt\n",
    "from matplotlib.ticker import MaxNLocator\n",
    "\n",
    "for i in range(len(collection)):\n",
    "    column = df.columns[1 + i]\n",
    "    df[column] = pd.to_numeric(df[column], errors=\"coerce\")  # Convert to float\n",
    "    plt.plot(spaced_year, df[column], marker='o', label=column)\n",
    "\n",
    "# Get current axis and set smooth y-axis ticks\n",
    "ax = plt.gca()  # Get current axis\n",
    "ax.yaxis.set_major_locator(MaxNLocator(nbins=6))  # Controls number of y-axis ticks\n",
    "\n",
    "# Customize the plot\n",
    "plt.title(\"Time Series Data\")\n",
    "plt.xlabel(\"Date\")\n",
    "plt.ylabel(\"Value\")\n",
    "plt.legend(title=\"Series\")\n",
    "plt.grid(True)\n",
    "\n",
    "# Show the plot\n",
    "plt.show()\n",
    "\n"
   ],
   "id": "b7a3a3eea51480e8",
   "outputs": [
    {
     "data": {
      "text/plain": [
       "<Figure size 640x480 with 1 Axes>"
      ],
      "image/png": "[encoded data removed]"
     },
     "metadata": {},
     "output_type": "display_data"
    }
   ],
   "execution_count": 9
  },
  {
   "metadata": {
    "ExecuteTime": {
     "end_time": "2025-02-27T05:43:50.782044Z",
     "start_time": "2025-02-27T05:43:50.771583Z"
    }
   },
   "cell_type": "code",
   "source": [
    "#Exporting the dataframe into excel\n",
    "df.to_csv(\"out.csv\")"
   ],
   "id": "676a8e6134f411a0",
   "outputs": [],
   "execution_count": 10
  },
  {
   "metadata": {},
   "cell_type": "code",
   "outputs": [],
   "execution_count": null,
   "source": "",
   "id": "153f969978f639fa"
  }
 ],
 "metadata": {
  "kernelspec": {
   "display_name": "Python 3",
   "language": "python",
   "name": "python3"
  },
  "language_info": {
   "codemirror_mode": {
    "name": "ipython",
    "version": 2
   },
   "file_extension": ".py",
   "mimetype": "text/x-python",
   "name": "python",
   "nbconvert_exporter": "python",
   "pygments_lexer": "ipython2",
   "version": "2.7.6"
  }
 },
 "nbformat": 4,
 "nbformat_minor": 5
}
